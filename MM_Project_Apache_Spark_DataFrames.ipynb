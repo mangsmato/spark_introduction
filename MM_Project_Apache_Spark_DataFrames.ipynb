{
  "nbformat": 4,
  "nbformat_minor": 0,
  "metadata": {
    "colab": {
      "name": "MM Project: Apache Spark DataFrames.ipynb",
      "provenance": [],
      "collapsed_sections": []
    },
    "kernelspec": {
      "name": "python3",
      "display_name": "Python 3"
    },
    "language_info": {
      "name": "python"
    }
  },
  "cells": [
    {
      "cell_type": "code",
      "execution_count": 1,
      "metadata": {
        "colab": {
          "base_uri": "https://localhost:8080/"
        },
        "id": "6FRwUOxAvtC3",
        "outputId": "d8b7450e-4574-4ccf-e547-f2c3073bb44b"
      },
      "outputs": [
        {
          "output_type": "stream",
          "name": "stdout",
          "text": [
            "Collecting pyspark\n",
            "  Downloading pyspark-3.2.1.tar.gz (281.4 MB)\n",
            "\u001b[K     |████████████████████████████████| 281.4 MB 36 kB/s \n",
            "\u001b[?25hCollecting py4j==0.10.9.3\n",
            "  Downloading py4j-0.10.9.3-py2.py3-none-any.whl (198 kB)\n",
            "\u001b[K     |████████████████████████████████| 198 kB 61.0 MB/s \n",
            "\u001b[?25hBuilding wheels for collected packages: pyspark\n",
            "  Building wheel for pyspark (setup.py) ... \u001b[?25l\u001b[?25hdone\n",
            "  Created wheel for pyspark: filename=pyspark-3.2.1-py2.py3-none-any.whl size=281853642 sha256=d5f4167f82971e1e742acf0cacf34064e984b4e4a25db442da82a92382b23c94\n",
            "  Stored in directory: /root/.cache/pip/wheels/9f/f5/07/7cd8017084dce4e93e84e92efd1e1d5334db05f2e83bcef74f\n",
            "Successfully built pyspark\n",
            "Installing collected packages: py4j, pyspark\n",
            "Successfully installed py4j-0.10.9.3 pyspark-3.2.1\n"
          ]
        }
      ],
      "source": [
        "# Installing pyspark\n",
        "# ---\n",
        "#\n",
        "!pip install pyspark"
      ]
    },
    {
      "cell_type": "markdown",
      "source": [
        "### 1. Data Importation and Exploration"
      ],
      "metadata": {
        "id": "gCc9tfAWjJUe"
      }
    },
    {
      "cell_type": "markdown",
      "source": [
        "* Start a spark session and load the stock file while inferring the data types.\n",
        "* Determine the column names\n",
        "* Make observations about the schema.\n",
        "* Show the first 5 rows\n",
        "* Use the describe method to learn about the data frame"
      ],
      "metadata": {
        "id": "7joC7U8djZA-"
      }
    },
    {
      "cell_type": "code",
      "source": [
        "# Next, we run a local spark session\n",
        "# ---\n",
        "#\n",
        "from pyspark.sql import SparkSession\n",
        "from pyspark.sql import SQLContext\n",
        "from pyspark.sql import functions as F\n",
        "from pyspark.sql.types import DoubleType"
      ],
      "metadata": {
        "id": "tQopuVILkt8b"
      },
      "execution_count": 2,
      "outputs": []
    },
    {
      "cell_type": "code",
      "source": [
        "# Start a spark session and load the stock file while inferring the data types.\n",
        "spark = SparkSession.builder.master(\"local[*]\").getOrCreate()\n",
        "sc = spark.sparkContext\n",
        "# Pass in the SparkContext object `sc`\n",
        "sqlCtx = SQLContext(sc)\n",
        "\n",
        "stocks = sqlCtx.read.options(header=True,inferSchema=True).csv('saf_stock.csv')"
      ],
      "metadata": {
        "colab": {
          "base_uri": "https://localhost:8080/"
        },
        "id": "47d4I_DAk-8n",
        "outputId": "3c1a9406-263f-42bd-a9ef-3f30600d4dd5"
      },
      "execution_count": 3,
      "outputs": [
        {
          "output_type": "stream",
          "name": "stderr",
          "text": [
            "/usr/local/lib/python3.7/dist-packages/pyspark/sql/context.py:79: FutureWarning: Deprecated in 3.0.0. Use SparkSession.builder.getOrCreate() instead.\n",
            "  FutureWarning\n"
          ]
        }
      ]
    },
    {
      "cell_type": "code",
      "source": [
        "# Determine the column names\n",
        "stocks.printSchema()"
      ],
      "metadata": {
        "colab": {
          "base_uri": "https://localhost:8080/"
        },
        "id": "EyIzpTL-mzX3",
        "outputId": "c1b18009-3d98-4d9b-8069-1a4220eb5fef"
      },
      "execution_count": 4,
      "outputs": [
        {
          "output_type": "stream",
          "name": "stdout",
          "text": [
            "root\n",
            " |-- Date: string (nullable = true)\n",
            " |-- Open: double (nullable = true)\n",
            " |-- High: double (nullable = true)\n",
            " |-- Low: double (nullable = true)\n",
            " |-- Close: double (nullable = true)\n",
            " |-- Volume: integer (nullable = true)\n",
            " |-- Adj Close: double (nullable = true)\n",
            "\n"
          ]
        }
      ]
    },
    {
      "cell_type": "markdown",
      "source": [
        "The SQL context automatically determined the data types of the columns when importing the data"
      ],
      "metadata": {
        "id": "fxb-gahSqI8Z"
      }
    },
    {
      "cell_type": "code",
      "source": [
        "# Show the first 5 rows\n",
        "stocks.show(5)"
      ],
      "metadata": {
        "colab": {
          "base_uri": "https://localhost:8080/"
        },
        "id": "l8GXipLbqUXY",
        "outputId": "e3a77be8-f61e-46dd-b86e-a698abeb8f43"
      },
      "execution_count": 5,
      "outputs": [
        {
          "output_type": "stream",
          "name": "stdout",
          "text": [
            "+----------+------------------+---------+---------+------------------+--------+------------------+\n",
            "|      Date|              Open|     High|      Low|             Close|  Volume|         Adj Close|\n",
            "+----------+------------------+---------+---------+------------------+--------+------------------+\n",
            "|2012-01-03|         59.970001|61.060001|59.869999|         60.330002|12668800|52.619234999999996|\n",
            "|2012-01-04|60.209998999999996|60.349998|59.470001|59.709998999999996| 9593300|         52.078475|\n",
            "|2012-01-05|         59.349998|59.619999|58.369999|         59.419998|12768200|         51.825539|\n",
            "|2012-01-06|         59.419998|59.450001|58.869999|              59.0| 8069400|          51.45922|\n",
            "|2012-01-09|         59.029999|59.549999|58.919998|             59.18| 6679300|51.616215000000004|\n",
            "+----------+------------------+---------+---------+------------------+--------+------------------+\n",
            "only showing top 5 rows\n",
            "\n"
          ]
        }
      ]
    },
    {
      "cell_type": "code",
      "source": [
        "# Use the describe method to learn about the data frame\n",
        "stocks.describe().show()"
      ],
      "metadata": {
        "colab": {
          "base_uri": "https://localhost:8080/"
        },
        "id": "tn6YMUN8qqRh",
        "outputId": "6805d2fa-6ef6-4de5-bbcc-e9b6e4dbd136"
      },
      "execution_count": 6,
      "outputs": [
        {
          "output_type": "stream",
          "name": "stdout",
          "text": [
            "+-------+----------+------------------+-----------------+-----------------+-----------------+-----------------+-----------------+\n",
            "|summary|      Date|              Open|             High|              Low|            Close|           Volume|        Adj Close|\n",
            "+-------+----------+------------------+-----------------+-----------------+-----------------+-----------------+-----------------+\n",
            "|  count|      1258|              1258|             1258|             1258|             1258|             1258|             1258|\n",
            "|   mean|      null| 72.35785375357709|72.83938807631165| 71.9186009594594|72.38844998012726|8222093.481717011|67.23883848728146|\n",
            "| stddev|      null|  6.76809024470826|6.768186808159218|6.744075756255496|6.756859163732991|  4519780.8431556|6.722609449996857|\n",
            "|    min|2012-01-03|56.389998999999996|        57.060001|        56.299999|        56.419998|          2094900|        50.363689|\n",
            "|    max|2016-12-30|         90.800003|        90.970001|            89.25|        90.470001|         80898100|84.91421600000001|\n",
            "+-------+----------+------------------+-----------------+-----------------+-----------------+-----------------+-----------------+\n",
            "\n"
          ]
        }
      ]
    },
    {
      "cell_type": "markdown",
      "source": [
        "* The dataset contains 1,258 records\n",
        "* Opening stock prices ranged from 56.39 to 90.8 with the average across the period being 72.34\n",
        "* The highest prices per day fluctuated between 57.06 and 90.97 with the average across the period being 72.84\n",
        "* The lowest prices per day dangled between 56.3 and 89.25 with the average across the period being 71.92"
      ],
      "metadata": {
        "id": "Vx-kE20Sq5rK"
      }
    },
    {
      "cell_type": "markdown",
      "source": [
        "### 2. Data Preparation"
      ],
      "metadata": {
        "id": "2JJz-NoGkMqp"
      }
    },
    {
      "cell_type": "markdown",
      "source": [
        "* Format all the data to 2 decimal places i.e. format_number()\n",
        "* Create a new data frame with a column called HV Ratio that is the ratio of the\n",
        "High Price versus volume of stock traded for a day"
      ],
      "metadata": {
        "id": "2GGpr4yGkQNh"
      }
    },
    {
      "cell_type": "code",
      "source": [
        "# Format all the data to 2 decimal places i.e. format_number()\n",
        "stocks_formated = stocks.withColumn('Open',F.format_number('Open',2).cast(DoubleType()))\\\n",
        "                        .withColumn('High',F.format_number('High',2).cast(DoubleType()))\\\n",
        "                        .withColumn('Low',F.format_number('Low',2).cast(DoubleType()))\\\n",
        "                        .withColumn('Close',F.format_number('Close',2).cast(DoubleType()))\\\n",
        "                        .withColumn('Adj Close',F.format_number('Adj Close',2).cast(DoubleType()))\n",
        "\n",
        "stocks_formated.show(5)"
      ],
      "metadata": {
        "colab": {
          "base_uri": "https://localhost:8080/"
        },
        "id": "hoVQv9adtyQQ",
        "outputId": "c24118dd-8ea2-4f86-c7e7-5b5105fd2b20"
      },
      "execution_count": 7,
      "outputs": [
        {
          "output_type": "stream",
          "name": "stdout",
          "text": [
            "+----------+-----+-----+-----+-----+--------+---------+\n",
            "|      Date| Open| High|  Low|Close|  Volume|Adj Close|\n",
            "+----------+-----+-----+-----+-----+--------+---------+\n",
            "|2012-01-03|59.97|61.06|59.87|60.33|12668800|    52.62|\n",
            "|2012-01-04|60.21|60.35|59.47|59.71| 9593300|    52.08|\n",
            "|2012-01-05|59.35|59.62|58.37|59.42|12768200|    51.83|\n",
            "|2012-01-06|59.42|59.45|58.87| 59.0| 8069400|    51.46|\n",
            "|2012-01-09|59.03|59.55|58.92|59.18| 6679300|    51.62|\n",
            "+----------+-----+-----+-----+-----+--------+---------+\n",
            "only showing top 5 rows\n",
            "\n"
          ]
        }
      ]
    },
    {
      "cell_type": "code",
      "source": [
        "stocks_formated.printSchema()"
      ],
      "metadata": {
        "colab": {
          "base_uri": "https://localhost:8080/"
        },
        "id": "WJnq1UfG6cs8",
        "outputId": "fa6dc29a-3621-4b2f-e2a0-5aeadc1034e5"
      },
      "execution_count": 8,
      "outputs": [
        {
          "output_type": "stream",
          "name": "stdout",
          "text": [
            "root\n",
            " |-- Date: string (nullable = true)\n",
            " |-- Open: double (nullable = true)\n",
            " |-- High: double (nullable = true)\n",
            " |-- Low: double (nullable = true)\n",
            " |-- Close: double (nullable = true)\n",
            " |-- Volume: integer (nullable = true)\n",
            " |-- Adj Close: double (nullable = true)\n",
            "\n"
          ]
        }
      ]
    },
    {
      "cell_type": "code",
      "source": [
        "# Create a new data frame with a column called HV Ratio that is the ratio of the High Price versus volume of stock traded for a day\n",
        "stocks_hv = stocks_formated.withColumn('HV Ratio', F.format_number(F.col('High')/F.col('Volume'),10))\n",
        "stocks_hv.show(5)"
      ],
      "metadata": {
        "colab": {
          "base_uri": "https://localhost:8080/"
        },
        "id": "3BVDBVOy0VXv",
        "outputId": "ceee5d6e-cdbd-4be5-f53c-41649646c6f7"
      },
      "execution_count": 9,
      "outputs": [
        {
          "output_type": "stream",
          "name": "stdout",
          "text": [
            "+----------+-----+-----+-----+-----+--------+---------+------------+\n",
            "|      Date| Open| High|  Low|Close|  Volume|Adj Close|    HV Ratio|\n",
            "+----------+-----+-----+-----+-----+--------+---------+------------+\n",
            "|2012-01-03|59.97|61.06|59.87|60.33|12668800|    52.62|0.0000048197|\n",
            "|2012-01-04|60.21|60.35|59.47|59.71| 9593300|    52.08|0.0000062908|\n",
            "|2012-01-05|59.35|59.62|58.37|59.42|12768200|    51.83|0.0000046694|\n",
            "|2012-01-06|59.42|59.45|58.87| 59.0| 8069400|    51.46|0.0000073673|\n",
            "|2012-01-09|59.03|59.55|58.92|59.18| 6679300|    51.62|0.0000089156|\n",
            "+----------+-----+-----+-----+-----+--------+---------+------------+\n",
            "only showing top 5 rows\n",
            "\n"
          ]
        }
      ]
    },
    {
      "cell_type": "markdown",
      "source": [
        "### 3. Data Analysis"
      ],
      "metadata": {
        "id": "q-geyiG4kWR1"
      }
    },
    {
      "cell_type": "markdown",
      "source": [
        "* What day had the Peak High in Price?\n",
        "* What is the mean of the Close column?\n",
        "* What is the max and min of the Volume column?\n",
        "* How many days was the Close lower than 60 dollars?\n",
        "* What percentage of the time was the High greater than 80 dollars?\n",
        "* What is the Pearson correlation between High and Volume?\n",
        "* What is the max High per year?\n",
        "* What is the average Close for each Calendar Month?"
      ],
      "metadata": {
        "id": "p9LBWJLikhnP"
      }
    },
    {
      "cell_type": "code",
      "source": [
        "stocks_hv.printSchema()"
      ],
      "metadata": {
        "colab": {
          "base_uri": "https://localhost:8080/"
        },
        "id": "NmqvcUvV80QF",
        "outputId": "27433b4f-c0c1-4525-9fbf-ae6972d2cd41"
      },
      "execution_count": 10,
      "outputs": [
        {
          "output_type": "stream",
          "name": "stdout",
          "text": [
            "root\n",
            " |-- Date: string (nullable = true)\n",
            " |-- Open: double (nullable = true)\n",
            " |-- High: double (nullable = true)\n",
            " |-- Low: double (nullable = true)\n",
            " |-- Close: double (nullable = true)\n",
            " |-- Volume: integer (nullable = true)\n",
            " |-- Adj Close: double (nullable = true)\n",
            " |-- HV Ratio: string (nullable = true)\n",
            "\n"
          ]
        }
      ]
    },
    {
      "cell_type": "code",
      "source": [
        "# What day had the Peak High in Price?\n",
        "peak_high = \tstocks_hv.agg({'High': 'max'}).collect()[0][0]\n",
        "stocks_hv[stocks_hv['High'] == peak_high].show()"
      ],
      "metadata": {
        "id": "_RmVllKRwAB2",
        "colab": {
          "base_uri": "https://localhost:8080/"
        },
        "outputId": "54614e8f-b158-4b12-ff84-3852e6906add"
      },
      "execution_count": 11,
      "outputs": [
        {
          "output_type": "stream",
          "name": "stdout",
          "text": [
            "+----------+----+-----+-----+-----+-------+---------+------------+\n",
            "|      Date|Open| High|  Low|Close| Volume|Adj Close|    HV Ratio|\n",
            "+----------+----+-----+-----+-----+-------+---------+------------+\n",
            "|2015-01-13|90.8|90.97|88.93|89.31|8215400|    83.83|0.0000110731|\n",
            "+----------+----+-----+-----+-----+-------+---------+------------+\n",
            "\n"
          ]
        }
      ]
    },
    {
      "cell_type": "code",
      "source": [
        "# What is the mean of the Close column?\n",
        "mean_close = \tstocks_hv.agg({'Close': 'mean'}).collect()[0][0]\n",
        "mean_close"
      ],
      "metadata": {
        "colab": {
          "base_uri": "https://localhost:8080/"
        },
        "id": "BA8_wuLd7LbQ",
        "outputId": "b7a773f1-ae32-44b8-d49b-89ff7e3ab6a9"
      },
      "execution_count": 12,
      "outputs": [
        {
          "output_type": "execute_result",
          "data": {
            "text/plain": [
              "72.38844992050863"
            ]
          },
          "metadata": {},
          "execution_count": 12
        }
      ]
    },
    {
      "cell_type": "code",
      "source": [
        "# What is the max and min of the Volume column?\n",
        "max_vol = \tstocks_hv.agg({'Volume': 'max'}).collect()[0][0]\n",
        "min_vol = \tstocks_hv.agg({'Volume': 'min'}).collect()[0][0]\n",
        "print('Maximum Volume:',max_vol,'\\nMinimum Volume:',min_vol)"
      ],
      "metadata": {
        "colab": {
          "base_uri": "https://localhost:8080/"
        },
        "id": "rw3C0_q52ah7",
        "outputId": "70d7dc9d-d933-4e72-eb7f-1ff3bda131e4"
      },
      "execution_count": 13,
      "outputs": [
        {
          "output_type": "stream",
          "name": "stdout",
          "text": [
            "Maximum Volume: 80898100 \n",
            "Minimum Volume: 2094900\n"
          ]
        }
      ]
    },
    {
      "cell_type": "code",
      "source": [
        "# How many days was the Close lower than 60 dollars?\n",
        "close_less_60 = stocks_hv[stocks_hv['Close'] < 60]\n",
        "print(close_less_60.count(),'days')\n",
        "close_less_60.show(5)"
      ],
      "metadata": {
        "colab": {
          "base_uri": "https://localhost:8080/"
        },
        "id": "M4hYVqed2r9Q",
        "outputId": "b2d3971e-976e-4595-e36b-ada557a6740e"
      },
      "execution_count": 14,
      "outputs": [
        {
          "output_type": "stream",
          "name": "stdout",
          "text": [
            "81 days\n",
            "+----------+-----+-----+-----+-----+--------+---------+------------+\n",
            "|      Date| Open| High|  Low|Close|  Volume|Adj Close|    HV Ratio|\n",
            "+----------+-----+-----+-----+-----+--------+---------+------------+\n",
            "|2012-01-04|60.21|60.35|59.47|59.71| 9593300|    52.08|0.0000062908|\n",
            "|2012-01-05|59.35|59.62|58.37|59.42|12768200|    51.83|0.0000046694|\n",
            "|2012-01-06|59.42|59.45|58.87| 59.0| 8069400|    51.46|0.0000073673|\n",
            "|2012-01-09|59.03|59.55|58.92|59.18| 6679300|    51.62|0.0000089156|\n",
            "|2012-01-10|59.43|59.71|58.98|59.04| 6907300|    51.49|0.0000086445|\n",
            "+----------+-----+-----+-----+-----+--------+---------+------------+\n",
            "only showing top 5 rows\n",
            "\n"
          ]
        }
      ]
    },
    {
      "cell_type": "code",
      "source": [
        "# What percentage of the time was the High greater than 80 dollars?\n",
        "total_days = stocks_hv.count()\n",
        "high_greater_80 = stocks_hv[stocks_hv['High'] > 80]\n",
        "days_high_greater_80 = high_greater_80.count()\n",
        "print('Total days:',total_days,'\\nNumber of days High was greater than 80:',days_high_greater_80)\n",
        "print('Percentage of days High was greater than 80: {}%'.format((days_high_greater_80/total_days) * 100))\n",
        "high_greater_80.show(5)"
      ],
      "metadata": {
        "colab": {
          "base_uri": "https://localhost:8080/"
        },
        "id": "1bbb7LQ99jh_",
        "outputId": "67991d40-5d8e-40cb-8ae5-a5fd717d1479"
      },
      "execution_count": 15,
      "outputs": [
        {
          "output_type": "stream",
          "name": "stdout",
          "text": [
            "Total days: 1258 \n",
            "Number of days High was greater than 80: 115\n",
            "Percentage of days High was greater than 80: 9.141494435612083%\n",
            "+----------+-----+-----+-----+-----+-------+---------+------------+\n",
            "|      Date| Open| High|  Low|Close| Volume|Adj Close|    HV Ratio|\n",
            "+----------+-----+-----+-----+-----+-------+---------+------------+\n",
            "|2013-11-25|80.06|80.57|79.91|80.43|5670400|    73.22|0.0000142089|\n",
            "|2013-11-26|80.44|80.68|80.11|80.68|5537800|    73.45|0.0000145690|\n",
            "|2013-11-27|80.55| 81.0|80.38|80.93|4813300|    73.67|0.0000168284|\n",
            "|2013-11-29|81.17|81.35|80.82|81.01|3447200|    73.75|0.0000235989|\n",
            "|2013-12-02|80.89|81.28|80.37|81.11|6178400|    73.84|0.0000131555|\n",
            "+----------+-----+-----+-----+-----+-------+---------+------------+\n",
            "only showing top 5 rows\n",
            "\n"
          ]
        }
      ]
    },
    {
      "cell_type": "code",
      "source": [
        "# What is the Pearson correlation between High and Volume?\n",
        "stocks_hv.corr('High','Volume')"
      ],
      "metadata": {
        "colab": {
          "base_uri": "https://localhost:8080/"
        },
        "id": "m25AFwGo9-ET",
        "outputId": "7516fe7d-c7aa-44b0-e5b9-bd02b95533f9"
      },
      "execution_count": 16,
      "outputs": [
        {
          "output_type": "execute_result",
          "data": {
            "text/plain": [
              "-0.33843260582148915"
            ]
          },
          "metadata": {},
          "execution_count": 16
        }
      ]
    },
    {
      "cell_type": "code",
      "source": [
        "# What is the max High per year?\n",
        "stocks_hv.groupby(F.date_format('Date','yyyy').alias('Year')).agg({'High': 'max'}).sort('Year').show()"
      ],
      "metadata": {
        "colab": {
          "base_uri": "https://localhost:8080/"
        },
        "id": "r_LF8bgx_vnS",
        "outputId": "47a4bbce-94ac-4599-dfff-919bdf13db1d"
      },
      "execution_count": 17,
      "outputs": [
        {
          "output_type": "stream",
          "name": "stdout",
          "text": [
            "+----+---------+\n",
            "|Year|max(High)|\n",
            "+----+---------+\n",
            "|2012|     77.6|\n",
            "|2013|    81.37|\n",
            "|2014|    88.09|\n",
            "|2015|    90.97|\n",
            "|2016|    75.19|\n",
            "+----+---------+\n",
            "\n"
          ]
        }
      ]
    },
    {
      "cell_type": "code",
      "source": [
        "# What is the average Close for each Calendar Month?\n",
        "stocks_hv.groupby(F.date_format('Date','MM').alias('Month')).agg({'Close': 'mean'}).sort('Month').show()"
      ],
      "metadata": {
        "colab": {
          "base_uri": "https://localhost:8080/"
        },
        "id": "vBltjmfuAhcv",
        "outputId": "0c0e155c-8d7f-4078-c89b-198b4a191555"
      },
      "execution_count": 18,
      "outputs": [
        {
          "output_type": "stream",
          "name": "stdout",
          "text": [
            "+-----+-----------------+\n",
            "|Month|       avg(Close)|\n",
            "+-----+-----------------+\n",
            "|   01|71.44801980198022|\n",
            "|   02|71.30680412371134|\n",
            "|   03|71.77794392523363|\n",
            "|   04|72.97361904761907|\n",
            "|   05|72.30971698113206|\n",
            "|   06|72.49537735849057|\n",
            "|   07|74.43971962616824|\n",
            "|   08|73.02981818181819|\n",
            "|   09|72.18411764705883|\n",
            "|   10|71.57854545454546|\n",
            "|   11|72.11108910891085|\n",
            "|   12|72.84792452830189|\n",
            "+-----+-----------------+\n",
            "\n"
          ]
        }
      ]
    }
  ]
}